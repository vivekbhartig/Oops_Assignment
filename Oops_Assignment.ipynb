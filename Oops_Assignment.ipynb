{
 "cells": [
  {
   "cell_type": "markdown",
   "metadata": {},
   "source": [
    "# Oops_Assignment_Vivek_"
   ]
  },
  {
   "cell_type": "markdown",
   "metadata": {},
   "source": [
    " 1. What are the five key concepts of Object-Oriented Programming (OOP)?\n",
    " Ans- Key concept of Oops\n",
    "    1.Class\n",
    "    2.Objects\n",
    "    3.Data Abstraction \n",
    "    4.Encapsulation\n",
    "    5.Polymorphism"
   ]
  },
  {
   "cell_type": "code",
   "execution_count": null,
   "metadata": {},
   "outputs": [],
   "source": []
  },
  {
   "cell_type": "code",
   "execution_count": 1,
   "metadata": {},
   "outputs": [
    {
     "name": "stdout",
     "output_type": "stream",
     "text": [
      "Car Information: 2020 Toyota Corolla\n"
     ]
    }
   ],
   "source": [
    "# 2.Write a Python class for a `Car` with attributes for `make`, `model`, and `year`. Include a method to display the car's information.\n",
    "class Car:\n",
    "    def __init__(self, make, model, year):\n",
    "        self.make = make\n",
    "        self.model = model\n",
    "        self.year = year\n",
    "\n",
    "    def display_info(self):\n",
    "        print(f\"Car Information: {self.year} {self.make} {self.model}\")\n",
    "my_car = Car(\"Toyota\", \"Corolla\", 2020)\n",
    "my_car.display_info()\n"
   ]
  },
  {
   "cell_type": "markdown",
   "metadata": {},
   "source": [
    "3. Explain the difference between instance methods and class methods. Provide an example of each.\n",
    "Ans -\n",
    "An instance method is a function defined inside a class that operates on an instance of the class. It takes self as its first parameter, which refers to the specific object calling the method, and allows access to instance attributes and other instance methods. These methods are typically used when behavior depends on the data stored in an individual object.\n",
    "While a class method is marked with the classmethod decorator and takes cls as its first parameter, which refers to the class itself rather than an instance. Class methods cannot access instance-specific data but can access or modify class-level attributes shared across all instances.\n"
   ]
  },
  {
   "cell_type": "code",
   "execution_count": 2,
   "metadata": {},
   "outputs": [
    {
     "name": "stdout",
     "output_type": "stream",
     "text": [
      "Buddy says Woof!\n"
     ]
    }
   ],
   "source": [
    "# Example of an Instance Method\n",
    "class Dog:\n",
    "    def __init__(self, name):\n",
    "        self.name = name\n",
    "    def speak(self):\n",
    "        return f\"{self.name} says Woof!\"\n",
    "dog1 = Dog(\"Buddy\")\n",
    "print(dog1.speak())  \n",
    "\n"
   ]
  },
  {
   "cell_type": "code",
   "execution_count": 3,
   "metadata": {},
   "outputs": [
    {
     "name": "stdout",
     "output_type": "stream",
     "text": [
      "All dogs are of species Canis familiaris\n"
     ]
    }
   ],
   "source": [
    "# Example of a Class Method\n",
    "class Dog:\n",
    "    species = \"Canis familiaris\"\n",
    "\n",
    "    def get_species(cls):\n",
    "        return f\"All dogs are of species {cls.species}\"\n",
    "print(Dog.get_species())  \n"
   ]
  },
  {
   "cell_type": "markdown",
   "metadata": {},
   "source": [
    "4. How does Python implement method overloading? Give an example.\n",
    "Method overloading is a feature in object-oriented programming where multiple methods with the same name can exist but with different parameters.\n",
    "Python does not support method overloading by default\n"
   ]
  },
  {
   "cell_type": "code",
   "execution_count": 16,
   "metadata": {},
   "outputs": [
    {
     "name": "stdout",
     "output_type": "stream",
     "text": [
      "Hello!\n",
      "Hello, Alice!\n"
     ]
    }
   ],
   "source": [
    "# EXample:\n",
    "class Greet:\n",
    "    def hello(self, name=None):\n",
    "        if name:\n",
    "            return f\"Hello, {name}!\"\n",
    "        else:\n",
    "            return \"Hello!\"\n",
    "\n",
    "\n",
    "g = Greet()\n",
    "print(g.hello())       \n",
    "print(g.hello(\"Vivek\")) \n"
   ]
  },
  {
   "cell_type": "markdown",
   "metadata": {},
   "source": [
    "5. What are the three types of access modifiers in Python? How are they denoted?\n",
    "Ans- Access modifiers in Python are used to control the visibility and accessibility of class members.\n",
    "There are three types of access modifiers: public, protected, and private.\n",
    "1.Public members are accessible from any part of the program. By default, all members of a class are public.\n",
    "2.Protected members are accessible within the class and its subclasses. They are defined by prefixing the member name with a single underscore _.\n",
    "3.Private members are accessible only within the class. They are defined by prefixing the member name with a double underscore __. "
   ]
  },
  {
   "cell_type": "markdown",
   "metadata": {},
   "source": [
    "6. Describe the five types of inheritance in Python. Provide a simple example of multiple inheritance. \n",
    "Ans : 1. Single Inheritence : A child class inherits from a single parent class.\n",
    "2.Multiple Inheritance: A child class inherits from more than one parent class.\n",
    "3.Multilevel Inheritance : A child class inherits from a parent class, and another child class inherits from this child class.\n",
    "4.Hierarchical Inheritance :Multiple child classes inherit from a single parent class.\n",
    "5.Hybrid Inheritance: Inheritance consisting of multiple types of inheritance is called hybrid inheritance."
   ]
  },
  {
   "cell_type": "code",
   "execution_count": 18,
   "metadata": {},
   "outputs": [
    {
     "name": "stdout",
     "output_type": "stream",
     "text": [
      "Father : Krishna\n",
      "Mother : Radha\n"
     ]
    }
   ],
   "source": [
    "# Example of Multiple inheritance:\n",
    "\n",
    "class Mother:\n",
    "    mothername = \"\"\n",
    "    def mother(self):\n",
    "        print(self.mothername)\n",
    "\n",
    "class Father:\n",
    "    fathername = \"\"\n",
    "\n",
    "    def father(self):\n",
    "        print(self.fathername)\n",
    "\n",
    "class Son(Mother, Father):\n",
    "    def parents(self):\n",
    "        print(\"Father :\", self.fathername)\n",
    "        print(\"Mother :\", self.mothername)\n",
    "\n",
    "s1 = Son()\n",
    "s1.fathername = \"Krishna\"\n",
    "s1.mothername = \"Radha\"\n",
    "s1.parents()\n"
   ]
  },
  {
   "cell_type": "markdown",
   "metadata": {},
   "source": [
    "7. What is the Method Resolution Order (MRO) in Python? How can you retrieve it programmatically?\n",
    "Method Resolution Order (MRO) in Python defines the order in which base classes are searched when executing a method. This order is crucial in the context of multiple inheritance, where a class can inherit from multiple parent classes. The MRO ensures that the method or attribute is resolved in a consistent and predictable manner.\n",
    "In Python, the MRO is determined using the C3 Linearization algorithm. This algorithm ensures that the inheritance order is consistent and that each class appears before its parents. The MRO can be viewed using the __mro__ attribute or the mro() method.\n"
   ]
  },
  {
   "cell_type": "code",
   "execution_count": 24,
   "metadata": {},
   "outputs": [
    {
     "name": "stdout",
     "output_type": "stream",
     "text": [
      "[<class '__main__.D'>, <class '__main__.B'>, <class '__main__.C'>, <class '__main__.A'>, <class 'object'>]\n",
      "(<class '__main__.D'>, <class '__main__.B'>, <class '__main__.C'>, <class '__main__.A'>, <class 'object'>)\n"
     ]
    }
   ],
   "source": [
    "# Example:\n",
    "class A: pass\n",
    "class B(A): pass\n",
    "class C(A): pass\n",
    "class D(B, C): pass\n",
    "\n",
    "print(D.mro())\n",
    "print(D.__mro__)\n"
   ]
  },
  {
   "cell_type": "code",
   "execution_count": 26,
   "metadata": {},
   "outputs": [
    {
     "name": "stdout",
     "output_type": "stream",
     "text": [
      "Circle area: 201.06\n",
      "Rectangle area: 20.00\n"
     ]
    }
   ],
   "source": [
    "#8. Create an abstract base class `Shape` with an abstract method `area()`. Then create two subclasses\n",
    "#`Circle` and `Rectangle` that implement the `area()` method.\n",
    "from abc import ABC, abstractmethod\n",
    "import math\n",
    "\n",
    "class Shape(ABC):\n",
    "    \n",
    "   \n",
    "    def area(self):\n",
    "        pass\n",
    "\n",
    "class Circle(Shape):\n",
    "    \n",
    "    def __init__(self, radius):\n",
    "        self.radius = radius\n",
    "    \n",
    "    def area(self):\n",
    "        return math.pi * self.radius ** 2\n",
    "\n",
    "class Rectangle(Shape):\n",
    "    \n",
    "    def __init__(self, width, height):\n",
    "        self.width = width\n",
    "        self.height = height\n",
    "    \n",
    "    def area(self):\n",
    "        return self.width * self.height\n",
    "\n",
    "shapes = [\n",
    "    Circle(8),\n",
    "    Rectangle(4, 5)\n",
    "]\n",
    "\n",
    "for shape in shapes:\n",
    "    print(f\"{shape.__class__.__name__} area: {shape.area():.2f}\")\n"
   ]
  },
  {
   "cell_type": "code",
   "execution_count": 27,
   "metadata": {},
   "outputs": [
    {
     "name": "stdout",
     "output_type": "stream",
     "text": [
      "Circle area: 28.27\n",
      "Rectangle area: 20.00\n",
      "Circle area: 153.94\n"
     ]
    }
   ],
   "source": [
    "# 9.Demonstrate polymorphism by creating a function that can work with different shape objects to calculate and print their areas.\n",
    "from abc import ABC, abstractmethod\n",
    "import math\n",
    "\n",
    "\n",
    "class Shape(ABC):\n",
    "    \n",
    "    @abstractmethod\n",
    "    def area(self):\n",
    "        pass\n",
    "\n",
    "class Circle(Shape):\n",
    "    \n",
    "    def __init__(self, radius):\n",
    "        self.radius = radius\n",
    "    \n",
    "    def area(self):\n",
    "        return math.pi * self.radius ** 2\n",
    "\n",
    "class Rectangle(Shape):\n",
    "    \n",
    "    def __init__(self, width, height):\n",
    "        self.width = width\n",
    "        self.height = height\n",
    "    \n",
    "    def area(self):\n",
    "        return self.width * self.height\n",
    "\n",
    "def print_area(shape):\n",
    "    print(f\"{shape.__class__.__name__} area: {shape.area():.2f}\")\n",
    "\n",
    "shapes = [\n",
    "    Circle(3),\n",
    "    Rectangle(4, 5),\n",
    "    Circle(7)\n",
    "]\n",
    "\n",
    "for shape in shapes:\n",
    "    print_area(shape)\n"
   ]
  },
  {
   "cell_type": "code",
   "execution_count": 53,
   "metadata": {},
   "outputs": [
    {
     "name": "stdout",
     "output_type": "stream",
     "text": [
      "₹2000 deposited successfully.\n",
      "₹1000 withdrawn successfully.\n",
      "Current Balance: ₹6000\n",
      "Account Number: 123456789\n"
     ]
    }
   ],
   "source": [
    "# 10.Implement encapsulation in a `BankAccount` class with private attributes for `balance` and `account_number`. Include methods for deposit, withdrawal, and balance inquiry.\n",
    "class BankAccount:\n",
    "    def __init__(self, account_number, initial_balance=0):\n",
    "        self.__account_number = account_number  \n",
    "        self.__balance = initial_balance      \n",
    "\n",
    "    def deposit(self, amount):\n",
    "        if amount > 0:\n",
    "            self.__balance += amount\n",
    "            print(f\"₹{amount} deposited successfully.\")\n",
    "        else:\n",
    "            print(\"Deposit amount must be positive.\")\n",
    "\n",
    "    def withdraw(self, amount):\n",
    "        if amount > 0:\n",
    "            if amount <= self.__balance:\n",
    "                self.__balance -= amount\n",
    "                print(f\"₹{amount} withdrawn successfully.\")\n",
    "            else:\n",
    "                print(\"Insufficient balance.\")\n",
    "        else:\n",
    "            print(\"Withdrawal amount must be positive.\")\n",
    "\n",
    "    def get_balance(self):\n",
    "        return self.__balance\n",
    "\n",
    "    def get_account_number(self):\n",
    "        return self.__account_number\n",
    "\n",
    "account = BankAccount(\"123456789\", 5000)\n",
    "account.deposit(2000)\n",
    "account.withdraw(1000)\n",
    "print(f\"Current Balance: ₹{account.get_balance()}\")\n",
    "print(f\"Account Number: {account.get_account_number()}\")\n"
   ]
  },
  {
   "cell_type": "markdown",
   "metadata": {},
   "source": [
    "11. Write a class that overrides the `__str__` and `__add__` magic methods. What will these methods allow you to do?\n",
    "Purpose of __str__ and __add__ Magic Methods: Overiding\n",
    "__str__ allows you to control how your object is printed (i.e., with print() or str()).\n",
    "__add__ allows you to define custom behavior for the + operator when used with your objects.\n"
   ]
  },
  {
   "cell_type": "code",
   "execution_count": 35,
   "metadata": {},
   "outputs": [
    {
     "name": "stdout",
     "output_type": "stream",
     "text": [
      "Finished sleeping.\n",
      "Function 'slow_function' executed in 2.0044 seconds\n"
     ]
    }
   ],
   "source": [
    "# 12. Create a decorator that measures and prints the execution time of a function.\n",
    "import time\n",
    "def timing_decorator(func):\n",
    "    def wrapper(*args, **kwargs):\n",
    "        start_time = time.time()           \n",
    "        result = func(*args, **kwargs)     \n",
    "        end_time = time.time()             \n",
    "        execution_time = end_time - start_time\n",
    "        print(f\"Function '{func.__name__}' executed in {execution_time:.4f} seconds\")\n",
    "        return result\n",
    "    return wrapper\n",
    "\n",
    "@timing_decorator\n",
    "def slow_function():\n",
    "    time.sleep(2)  \n",
    "    print(\"Finished sleeping.\")\n",
    "\n",
    "slow_function()\n"
   ]
  },
  {
   "cell_type": "markdown",
   "metadata": {},
   "source": [
    "13. Explain the concept of the Diamond Problem in multiple inheritance. How does Python resolve it?\n",
    "The Diamond Problem occurs in languages that support multiple inheritance, like Python. It arises when a class inherits from two classes that both inherit from a common superclass, forming a diamond-shaped hierarchy.\n"
   ]
  },
  {
   "cell_type": "code",
   "execution_count": 38,
   "metadata": {},
   "outputs": [
    {
     "name": "stdout",
     "output_type": "stream",
     "text": [
      "B\n",
      "[<class '__main__.D'>, <class '__main__.B'>, <class '__main__.C'>, <class '__main__.A'>, <class 'object'>]\n"
     ]
    }
   ],
   "source": [
    "#Exaple:\n",
    "class A:\n",
    "    def say(self):\n",
    "        print(\"A\")\n",
    "\n",
    "class B(A):\n",
    "    def say(self):\n",
    "        print(\"B\")\n",
    "\n",
    "class C(A):\n",
    "    def say(self):\n",
    "        print(\"C\")\n",
    "\n",
    "class D(B, C):\n",
    "    pass\n",
    "\n",
    "d = D()\n",
    "d.say()\n",
    "\n",
    "print(D.mro())\n"
   ]
  },
  {
   "cell_type": "code",
   "execution_count": 51,
   "metadata": {},
   "outputs": [
    {
     "name": "stdout",
     "output_type": "stream",
     "text": [
      "3\n"
     ]
    }
   ],
   "source": [
    "# 14.Write a class method that keeps track of the number of instances created from a class.\n",
    "class InstanceCounter:\n",
    "  \n",
    "    instance_count = 0\n",
    "\n",
    "    def __init__(self):\n",
    "       \n",
    "        InstanceCounter.instance_count += 1\n",
    "\n",
    "    @classmethod\n",
    "    def get_instance_count(cls):\n",
    "     \n",
    "        return cls.instance_count\n",
    "\n",
    "\n",
    "obj1 = InstanceCounter()\n",
    "obj2 = InstanceCounter()\n",
    "obj3 = InstanceCounter()\n",
    "\n",
    "print(InstanceCounter.get_instance_count()) \n",
    "\n"
   ]
  },
  {
   "cell_type": "code",
   "execution_count": 52,
   "metadata": {},
   "outputs": [
    {
     "name": "stdout",
     "output_type": "stream",
     "text": [
      "True\n",
      "False\n",
      "True\n"
     ]
    }
   ],
   "source": [
    "# 15.Implement a static method in a class that checks if a given year is a leap year.\n",
    "class YearUtils:\n",
    "    @staticmethod\n",
    "    def is_leap_year(year):\n",
    "   \n",
    "        if (year % 4 == 0 and year % 100 != 0) or (year % 400 == 0):\n",
    "            return True\n",
    "        return False\n",
    "\n",
    "print(YearUtils.is_leap_year(2024))  # Output: True\n",
    "print(YearUtils.is_leap_year(1900))  # Output: False\n",
    "print(YearUtils.is_leap_year(2000))  # Output: True\n",
    "\n",
    "\n",
    "\n"
   ]
  },
  {
   "cell_type": "markdown",
   "metadata": {},
   "source": [
    "--- The End ---"
   ]
  }
 ],
 "metadata": {
  "kernelspec": {
   "display_name": "Python 3",
   "language": "python",
   "name": "python3"
  },
  "language_info": {
   "codemirror_mode": {
    "name": "ipython",
    "version": 3
   },
   "file_extension": ".py",
   "mimetype": "text/x-python",
   "name": "python",
   "nbconvert_exporter": "python",
   "pygments_lexer": "ipython3",
   "version": "3.8.5"
  }
 },
 "nbformat": 4,
 "nbformat_minor": 4
}
